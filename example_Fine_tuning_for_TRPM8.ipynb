{
  "cells": [
    {
      "cell_type": "code",
      "execution_count": null,
      "metadata": {
        "id": "wmpnro2qIVyo"
      },
      "outputs": [],
      "source": [
        "import numpy as np\n",
        "from sklearn.decomposition import PCA\n",
        "import matplotlib.pyplot as plt\n",
        "%matplotlib inline\n",
        "\n",
        "from rdkit import Chem, DataStructs\n",
        "from rdkit.Chem import AllChem, Draw\n",
        "from rdkit.Chem.Draw import IPythonConsole\n",
        "\n",
        "from lstm_chem.utils.config import process_config\n",
        "from lstm_chem.model import LSTMChem\n",
        "from lstm_chem.finetuner import LSTMChemFinetuner\n",
        "from lstm_chem.data_loader import DataLoader"
      ]
    },
    {
      "cell_type": "code",
      "execution_count": null,
      "metadata": {
        "id": "wfd2BYkHIVys",
        "outputId": "cbc56dee-409b-4b6c-d203-9b59bf5c5439"
      },
      "outputs": [
        {
          "name": "stdout",
          "output_type": "stream",
          "text": [
            "Looking in indexes: https://pypi.org/simple/\n",
            "Ignoring ipykernel: markers 'python_version >= \"3.7\"' don't match your environment\n",
            "Ignoring kiwisolver: markers 'python_version >= \"3.7\"' don't match your environment\n",
            "Ignoring nbconvert: markers 'python_version >= \"3.7\"' don't match your environment\n",
            "Ignoring numpy: markers 'python_version >= \"3.9\"' don't match your environment\n",
            "Ignoring scipy: markers 'python_version < \"3.10\" and python_version >= \"3.7\"' don't match your environment\n",
            "Ignoring traitlets: markers 'python_version >= \"3.7\"' don't match your environment\n",
            "Collecting absl-py==0.13.0\n",
            "  Using cached absl_py-0.13.0-py3-none-any.whl (132 kB)\n",
            "Collecting argon2-cffi==21.1.0\n",
            "  Using cached argon2_cffi-21.1.0-cp35-abi3-macosx_10_14_x86_64.whl (38 kB)\n",
            "Collecting astunparse==1.6.3\n",
            "  Using cached astunparse-1.6.3-py2.py3-none-any.whl (12 kB)\n",
            "Collecting attrs==21.2.0\n",
            "  Using cached attrs-21.2.0-py2.py3-none-any.whl (53 kB)\n",
            "Requirement already satisfied: backcall==0.2.0 in /opt/anaconda3/envs/py36/lib/python3.6/site-packages (from -r requirements.txt (line 13)) (0.2.0)\n",
            "Requirement already satisfied: bleach==4.1.0 in /opt/anaconda3/envs/py36/lib/python3.6/site-packages (from -r requirements.txt (line 14)) (4.1.0)\n",
            "Requirement already satisfied: bunch==1.0.1 in /opt/anaconda3/envs/py36/lib/python3.6/site-packages (from -r requirements.txt (line 15)) (1.0.1)\n",
            "Collecting cachetools==4.2.2\n",
            "  Using cached cachetools-4.2.2-py3-none-any.whl (11 kB)\n",
            "Requirement already satisfied: certifi==2021.5.30 in /opt/anaconda3/envs/py36/lib/python3.6/site-packages (from -r requirements.txt (line 17)) (2021.5.30)\n",
            "Requirement already satisfied: cffi==1.14.6 in /opt/anaconda3/envs/py36/lib/python3.6/site-packages (from -r requirements.txt (line 18)) (1.14.6)\n",
            "Collecting charset-normalizer==2.0.4\n",
            "  Using cached charset_normalizer-2.0.4-py3-none-any.whl (36 kB)\n",
            "Collecting clang==5.0\n",
            "  Using cached clang-5.0.tar.gz (30 kB)\n",
            "Collecting cycler==0.10.0\n",
            "  Using cached cycler-0.10.0-py2.py3-none-any.whl (6.5 kB)\n",
            "Collecting debugpy==1.4.1\n",
            "  Using cached debugpy-1.4.1-cp36-cp36m-macosx_10_14_x86_64.whl (4.4 MB)\n",
            "Collecting decorator==5.0.9\n",
            "  Using cached decorator-5.0.9-py3-none-any.whl (8.9 kB)\n",
            "Requirement already satisfied: defusedxml==0.7.1 in /opt/anaconda3/envs/py36/lib/python3.6/site-packages (from -r requirements.txt (line 24)) (0.7.1)\n",
            "Requirement already satisfied: entrypoints==0.3 in /opt/anaconda3/envs/py36/lib/python3.6/site-packages (from -r requirements.txt (line 25)) (0.3)\n",
            "Collecting flatbuffers==1.12\n",
            "  Using cached flatbuffers-1.12-py2.py3-none-any.whl (15 kB)\n",
            "Collecting gast==0.4.0\n",
            "  Using cached gast-0.4.0-py3-none-any.whl (9.8 kB)\n",
            "Collecting google-auth-oauthlib==0.4.6\n",
            "  Using cached google_auth_oauthlib-0.4.6-py2.py3-none-any.whl (18 kB)\n",
            "Collecting google-auth==1.35.0\n",
            "  Using cached google_auth-1.35.0-py2.py3-none-any.whl (152 kB)\n",
            "Requirement already satisfied: google-pasta==0.2.0 in /opt/anaconda3/envs/py36/lib/python3.6/site-packages (from -r requirements.txt (line 30)) (0.2.0)\n",
            "Collecting grpcio==1.40.0\n",
            "  Using cached grpcio-1.40.0-cp36-cp36m-macosx_10_10_x86_64.whl (3.9 MB)\n",
            "Collecting h5py==3.1.0\n",
            "  Using cached h5py-3.1.0-cp36-cp36m-macosx_10_9_x86_64.whl (2.9 MB)\n",
            "Collecting idna==3.2\n",
            "  Using cached idna-3.2-py3-none-any.whl (59 kB)\n",
            "Requirement already satisfied: ipython-genutils==0.2.0 in /opt/anaconda3/envs/py36/lib/python3.6/site-packages (from -r requirements.txt (line 35)) (0.2.0)\n",
            "\u001b[31mERROR: Could not find a version that satisfies the requirement ipython==7.27.0 (from versions: 0.10, 0.10.1, 0.10.2, 0.11, 0.12, 0.12.1, 0.13, 0.13.1, 0.13.2, 1.0.0, 1.1.0, 1.2.0, 1.2.1, 2.0.0, 2.1.0, 2.2.0, 2.3.0, 2.3.1, 2.4.0, 2.4.1, 3.0.0, 3.1.0, 3.2.0, 3.2.1, 3.2.2, 3.2.3, 4.0.0b1, 4.0.0, 4.0.1, 4.0.2, 4.0.3, 4.1.0rc1, 4.1.0rc2, 4.1.0, 4.1.1, 4.1.2, 4.2.0, 4.2.1, 5.0.0b1, 5.0.0b2, 5.0.0b3, 5.0.0b4, 5.0.0rc1, 5.0.0, 5.1.0, 5.2.0, 5.2.1, 5.2.2, 5.3.0, 5.4.0, 5.4.1, 5.5.0, 5.6.0, 5.7.0, 5.8.0, 5.9.0, 5.10.0, 6.0.0rc1, 6.0.0, 6.1.0, 6.2.0, 6.2.1, 6.3.0, 6.3.1, 6.4.0, 6.5.0, 7.0.0b1, 7.0.0rc1, 7.0.0, 7.0.1, 7.1.0, 7.1.1, 7.2.0, 7.3.0, 7.4.0, 7.5.0, 7.6.0, 7.6.1, 7.7.0, 7.8.0, 7.9.0, 7.10.0, 7.10.1, 7.10.2, 7.11.0, 7.11.1, 7.12.0, 7.13.0, 7.14.0, 7.15.0, 7.16.0, 7.16.1, 7.16.2, 7.16.3)\u001b[0m\n",
            "\u001b[31mERROR: No matching distribution found for ipython==7.27.0\u001b[0m\n",
            "Note: you may need to restart the kernel to use updated packages.\n"
          ]
        }
      ],
      "source": [
        "pip install -r requirements.txt"
      ]
    },
    {
      "cell_type": "code",
      "execution_count": null,
      "metadata": {
        "id": "Eo4k6ruhIVyt",
        "outputId": "9ea98e47-8c6f-4197-8447-585adf38b251"
      },
      "outputs": [
        {
          "name": "stdout",
          "output_type": "stream",
          "text": [
            "Loading model architecture from experiments/2022-03-17/LSTM_Chem/model_arch.json ...\n",
            "Loading model checkpoint from experiments/2022-03-17/LSTM_Chem/checkpoints/LSTM_Chem-22-1.73.hdf5 ...\n",
            "Loaded the Model.\n",
            "loading SMILES...\n",
            "done.\n",
            "tokenizing SMILES...\n"
          ]
        },
        {
          "name": "stderr",
          "output_type": "stream",
          "text": [
            "100%|██████████| 5/5 [00:00<00:00, 21913.81it/s]"
          ]
        },
        {
          "name": "stdout",
          "output_type": "stream",
          "text": [
            "done.\n",
            "Train for 5 steps\n",
            "Epoch 1/12\n"
          ]
        },
        {
          "name": "stderr",
          "output_type": "stream",
          "text": [
            "\n"
          ]
        },
        {
          "name": "stdout",
          "output_type": "stream",
          "text": [
            "5/5 [==============================] - 4s 809ms/step - loss: 2.5359\n",
            "Epoch 2/12\n",
            "5/5 [==============================] - 1s 194ms/step - loss: 2.4306\n",
            "Epoch 3/12\n",
            "5/5 [==============================] - 1s 200ms/step - loss: 2.4071\n",
            "Epoch 4/12\n",
            "5/5 [==============================] - 2s 344ms/step - loss: 2.3751\n",
            "Epoch 5/12\n",
            "5/5 [==============================] - 1s 210ms/step - loss: 2.3436\n",
            "Epoch 6/12\n",
            "5/5 [==============================] - 1s 216ms/step - loss: 2.3228\n",
            "Epoch 7/12\n",
            "5/5 [==============================] - 1s 206ms/step - loss: 2.3336\n",
            "Epoch 8/12\n",
            "5/5 [==============================] - 1s 211ms/step - loss: 2.2986\n",
            "Epoch 9/12\n",
            "5/5 [==============================] - 1s 206ms/step - loss: 2.2839\n",
            "Epoch 10/12\n",
            "5/5 [==============================] - 1s 205ms/step - loss: 2.2576\n",
            "Epoch 11/12\n",
            "5/5 [==============================] - 1s 208ms/step - loss: 2.2593\n",
            "Epoch 12/12\n",
            "5/5 [==============================] - 1s 207ms/step - loss: 2.2551\n"
          ]
        },
        {
          "data": {
            "text/plain": [
              "<tensorflow.python.keras.callbacks.History at 0x7fbd165f6fd0>"
            ]
          },
          "execution_count": 4,
          "metadata": {},
          "output_type": "execute_result"
        }
      ],
      "source": [
        "config = process_config('experiments/2022-03-17/LSTM_Chem/config.json')\n",
        "\n",
        "modeler = LSTMChem(config, session='finetune')\n",
        "finetune_dl = DataLoader(config, data_type='finetune')\n",
        "\n",
        "finetuner = LSTMChemFinetuner(modeler, finetune_dl)\n",
        "finetuner.finetune()"
      ]
    },
    {
      "cell_type": "code",
      "execution_count": null,
      "metadata": {
        "id": "fT73mnzhIVyu"
      },
      "outputs": [],
      "source": [
        "finetuned_smiles = finetuner.sample(num=1)"
      ]
    },
    {
      "cell_type": "code",
      "execution_count": null,
      "metadata": {
        "id": "GL0RpyRtIVyu"
      },
      "outputs": [],
      "source": [
        "with open('./datasets/known_TRPM8-inhibitors_cleansed.smi') as f:\n",
        "    ksmiles = [l.rstrip() for l in f]\n",
        "kmols = [Chem.MolFromSmiles(smi) for smi in ksmiles]\n",
        "\n",
        "Kfps = []\n",
        "for mol in kmols:\n",
        "    bv = AllChem.GetMACCSKeysFingerprint(mol)\n",
        "    fp = np.zeros(len(bv))\n",
        "    DataStructs.ConvertToNumpyArray(bv, fp)\n",
        "    Kfps.append(fp)\n",
        "\n",
        "Klen = len(Kfps)"
      ]
    },
    {
      "cell_type": "code",
      "execution_count": null,
      "metadata": {
        "id": "tpBhzGWLIVyv"
      },
      "outputs": [],
      "source": [
        "with open('./datasets/TRPM8_inhibitors_for_fine-tune.smi') as f:\n",
        "    fsmiles = [l.rstrip() for l in f]\n",
        "fmols = [Chem.MolFromSmiles(smi) for smi in fsmiles]\n",
        "\n",
        "Ffps, Fbvs = [], []\n",
        "for mol in fmols:\n",
        "    bv = AllChem.GetMACCSKeysFingerprint(mol)\n",
        "    Fbvs.append(bv)\n",
        "    \n",
        "    fp = np.zeros(len(bv))\n",
        "    DataStructs.ConvertToNumpyArray(bv, fp)\n",
        "    Ffps.append(fp)\n",
        "\n",
        "Flen = len(Ffps)"
      ]
    },
    {
      "cell_type": "code",
      "execution_count": null,
      "metadata": {
        "id": "hlwqfMD3IVyw"
      },
      "outputs": [],
      "source": [
        "Sfps, Sbvs, smols = [], [], []\n",
        "for smi in finetuned_smiles:\n",
        "    mol = Chem.MolFromSmiles(smi)\n",
        "    smols.append(mol)\n",
        "    \n",
        "    bv = AllChem.GetMACCSKeysFingerprint(mol)\n",
        "    Sbvs.append(bv)\n",
        "    \n",
        "    fp = np.zeros(len(bv))\n",
        "    DataStructs.ConvertToNumpyArray(bv, fp)\n",
        "    Sfps.append(fp)"
      ]
    },
    {
      "cell_type": "code",
      "execution_count": null,
      "metadata": {
        "id": "OIf5fHkWIVyx"
      },
      "outputs": [],
      "source": [
        "x = Kfps + Ffps + Sfps\n",
        "pca = PCA(n_components=2, random_state=71)\n",
        "X = pca.fit_transform(x)"
      ]
    },
    {
      "cell_type": "code",
      "execution_count": null,
      "metadata": {
        "id": "8jxI5qWDIVyx",
        "outputId": "e5aee41f-e202-4e1b-dffd-336aaafff0aa"
      },
      "outputs": [
        {
          "data": {
            "image/png": "[encoded data removed]",
            "text/plain": [
              "<Figure size 576x360 with 1 Axes>"
            ]
          },
          "metadata": {
            "needs_background": "light"
          },
          "output_type": "display_data"
        }
      ],
      "source": [
        "plt.figure(figsize=(8, 5))\n",
        "plt.scatter(X[:Klen, 0], X[:Klen, 1],\n",
        "            c='w', edgecolors='k', label='Known TRPM8 inhibitors')\n",
        "plt.scatter(X[Klen:Klen + Flen, 0], X[Klen:Klen + Flen, 1],\n",
        "            s=200, c='r', marker='*', edgecolors='k', label='Selected training molecules')\n",
        "plt.scatter(X[Klen + Flen:, 0], X[Klen + Flen:, 1],\n",
        "            c='c', marker='+', label='TRPM8 fine tuned')\n",
        "plt.xlabel('PC 1')\n",
        "plt.ylabel('PC 2')\n",
        "plt.legend();"
      ]
    },
    {
      "cell_type": "code",
      "execution_count": null,
      "metadata": {
        "id": "S3-HtwjwIVyy"
      },
      "outputs": [],
      "source": [
        "idxs = []\n",
        "for Fbv in Fbvs:\n",
        "    idx = np.argmax(DataStructs.BulkTanimotoSimilarity(Fbv, Sbvs))\n",
        "    idxs.append(idx)\n",
        "nsmols = [smols[idx] for idx in idxs]"
      ]
    },
    {
      "cell_type": "code",
      "execution_count": null,
      "metadata": {
        "id": "X_VK2SWyIVyz"
      },
      "outputs": [],
      "source": [
        "showmols = []\n",
        "for i, j in zip(fmols, nsmols):\n",
        "    showmols.append(i)\n",
        "    showmols.append(j)"
      ]
    },
    {
      "cell_type": "code",
      "execution_count": null,
      "metadata": {
        "id": "uPrizTXLIVyz",
        "outputId": "cf51f995-b8e7-4eb8-a2db-bb20c0aa7e41"
      },
      "outputs": [
        {
          "data": {
            "image/png": "[encoded data removed]",
            "text/plain": [
              "<IPython.core.display.Image object>"
            ]
          },
          "execution_count": 13,
          "metadata": {},
          "output_type": "execute_result"
        }
      ],
      "source": [
        "Draw.MolsToGridImage(showmols, molsPerRow=2)"
      ]
    },
    {
      "cell_type": "code",
      "execution_count": null,
      "metadata": {
        "id": "y4kiKR5KIVyz"
      },
      "outputs": [],
      "source": [
        ""
      ]
    }
  ],
  "metadata": {
    "kernelspec": {
      "display_name": "Python 3",
      "language": "python",
      "name": "python3"
    },
    "language_info": {
      "codemirror_mode": {
        "name": "ipython",
        "version": 3
      },
      "file_extension": ".py",
      "mimetype": "text/x-python",
      "name": "python",
      "nbconvert_exporter": "python",
      "pygments_lexer": "ipython3",
      "version": "3.6.13"
    },
    "colab": {
      "name": "example_Fine-tuning_for_TRPM8.ipynb",
      "provenance": []
    }
  },
  "nbformat": 4,
  "nbformat_minor": 0
}